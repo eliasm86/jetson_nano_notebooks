{
 "cells": [
  {
   "cell_type": "code",
   "execution_count": null,
   "metadata": {},
   "outputs": [],
   "source": []
  },
  {
   "cell_type": "code",
   "execution_count": 1,
   "metadata": {},
   "outputs": [
    {
     "data": {
      "application/vnd.jupyter.widget-view+json": {
       "model_id": "75bfc8afabd24152aebacda2f70a47cf",
       "version_major": 2,
       "version_minor": 0
      },
      "text/plain": [
       "Image(value=b'', format='jpeg')"
      ]
     },
     "metadata": {},
     "output_type": "display_data"
    },
    {
     "data": {
      "application/vnd.jupyter.widget-view+json": {
       "model_id": "a81b00d7a89f47d5a7e033dcb91305d4",
       "version_major": 2,
       "version_minor": 0
      },
      "text/plain": [
       "Text(value='Hello World')"
      ]
     },
     "metadata": {},
     "output_type": "display_data"
    }
   ],
   "source": [
    "import ipywidgets\n",
    "from IPython.display import display\n",
    "import jetson.inference\n",
    "import jetson.utils\n",
    "import cv2\n",
    "\n",
    "# turn numpy array into a jpeg\n",
    "def bgr8_to_jpeg(value, quality=75):\n",
    "    return bytes(cv2.imencode('.jpg', value)[1])\n",
    "\n",
    "\n",
    "# load detect net\n",
    "net = jetson.inference.detectNet(\"ssd-mobilenet-v2\", threshold=0.5)\n",
    "\n",
    "camera = jetson.utils.gstCamera(640, 480, \"0\")\n",
    "image_widget = ipywidgets.Image(format='jpeg')\n",
    "text_widget = ipywidgets.Text(value='Hello World')\n",
    "display(image_widget,text_widget)\n"
   ]
  },
  {
   "cell_type": "code",
   "execution_count": null,
   "metadata": {},
   "outputs": [],
   "source": [
    "\n",
    "while 1:\n",
    "    # get new image, zero copy needs to be 1 so we can access memory from cpu\n",
    "    img, width, height = camera.CaptureRGBA(zeroCopy=1)\n",
    "    \n",
    "    # detect, also appends image with found objects\n",
    "    detections = net.Detect(img, width, height)\n",
    "    \n",
    "    # we need a jpeg to display, depth is 4 because of alpha channel\n",
    "    image = jetson.utils.cudaToNumpy(img,width, height, 4)[:, :, [2, 1, 0]]\n",
    "    #img_orig = jetson.utils.cudaToNumpy(img, width, heigth, 4)[:, :, [2, 1, 0]]\n",
    "\n",
    "      \n",
    "    image_widget.value = bgr8_to_jpeg(image)\n",
    "    \n",
    "    \n",
    "    # lets put the found things in a text field just because\n",
    "    text_widget.value = \" \".join([net.GetClassDesc(d.ClassID) for d in detections])"
   ]
  }
 ],
 "metadata": {
  "kernelspec": {
   "display_name": "Python 3",
   "language": "python",
   "name": "python3"
  },
  "language_info": {
   "codemirror_mode": {
    "name": "ipython",
    "version": 3
   },
   "file_extension": ".py",
   "mimetype": "text/x-python",
   "name": "python",
   "nbconvert_exporter": "python",
   "pygments_lexer": "ipython3",
   "version": "3.6.9"
  }
 },
 "nbformat": 4,
 "nbformat_minor": 4
}
