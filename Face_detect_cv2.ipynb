{
 "cells": [
  {
   "cell_type": "code",
   "execution_count": 1,
   "metadata": {},
   "outputs": [],
   "source": [
    "import numpy as np\n",
    "import cv2\n",
    "import ipywidgets\n",
    "from IPython.display import display\n",
    "\n",
    "\n",
    "# turn numpy array into a jpeg\n",
    "def bgr8_to_jpeg(value, quality=75):\n",
    "    return bytes(cv2.imencode('.jpg', value)[1])\n",
    "\n"
   ]
  },
  {
   "cell_type": "code",
   "execution_count": 2,
   "metadata": {},
   "outputs": [],
   "source": [
    "\n",
    "def gstreamer_pipeline(\n",
    "    capture_width=640,\n",
    "    capture_height=480,\n",
    "    display_width=640,\n",
    "    display_height=480,\n",
    "    framerate=30,\n",
    "    flip_method=0,\n",
    "):\n",
    "    return (\n",
    "        \"nvarguscamerasrc ! \"\n",
    "        \"video/x-raw(memory:NVMM), \"\n",
    "        \"width=(int)%d, height=(int)%d, \"\n",
    "        \"format=(string)NV12, framerate=(fraction)%d/1 ! \"\n",
    "        \"nvvidconv flip-method=%d ! \"\n",
    "        \"video/x-raw, width=(int)%d, height=(int)%d, format=(string)BGRx ! \"\n",
    "        \"videoconvert ! \"\n",
    "        \"video/x-raw, format=(string)BGR ! appsink max-buffers=1 drop=True\"\n",
    "        \n",
    "        # \"appsink max-buffers=1 drop=True\" without this we have ahorrible lagging\n",
    "        \n",
    "        % (\n",
    "            capture_width,\n",
    "            capture_height,\n",
    "            framerate,\n",
    "            flip_method,\n",
    "            display_width,\n",
    "            display_height,\n",
    "        )\n",
    "    )\n",
    "\n",
    "\n",
    "face_cascade = cv2.CascadeClassifier('haarcascade_frontalface_default.xml')\n"
   ]
  },
  {
   "cell_type": "code",
   "execution_count": 3,
   "metadata": {},
   "outputs": [
    {
     "data": {
      "application/vnd.jupyter.widget-view+json": {
       "model_id": "1ce395334e03433698e6f8f4e94405c4",
       "version_major": 2,
       "version_minor": 0
      },
      "text/plain": [
       "HBox(children=(Image(value=b'', format='jpeg'), Image(value=b'', format='jpeg')))"
      ]
     },
     "metadata": {},
     "output_type": "display_data"
    }
   ],
   "source": [
    "\n",
    "image_widget = ipywidgets.Image(format='jpeg')\n",
    "image_widget2 = ipywidgets.Image(format='jpeg')\n",
    "\n",
    "display(ipywidgets.HBox([image_widget,image_widget2]))"
   ]
  },
  {
   "cell_type": "code",
   "execution_count": null,
   "metadata": {},
   "outputs": [],
   "source": [
    "try:\n",
    "    cap = cv2.VideoCapture(\"/dev/video1\") #USB Camera\n",
    "    cap2 = cv2.VideoCapture(gstreamer_pipeline(flip_method=2), cv2.CAP_GSTREAMER) # CSI Camera\n",
    "    while 1:\n",
    "        ret_val, img = cap.read()\n",
    "        ret_val, img2 = cap2.read()\n",
    "       \n",
    "        faces1 = face_cascade.detectMultiScale(img, 1.7, 4)\n",
    "        faces2 = face_cascade.detectMultiScale(img2, 1.7, 4)\n",
    "        \n",
    "        for (x, y, w, h) in faces1:\n",
    "            cv2.rectangle(img, (x, y), (x+w, y+h), (255, 0, 0), 2)\n",
    "       \n",
    "        for (x, y, w, h) in faces2:\n",
    "            cv2.rectangle(img2, (x, y), (x+w, y+h), (255, 0, 0), 2)\n",
    "        \n",
    "        image_widget.value = bgr8_to_jpeg(img)      \n",
    "        image_widget2.value = bgr8_to_jpeg(img2)\n",
    "\n",
    "except KeyboardInterrupt:\n",
    "    print(\"stop\")\n",
    "    cap.release()\n",
    "    cap2.release()"
   ]
  },
  {
   "cell_type": "code",
   "execution_count": null,
   "metadata": {},
   "outputs": [],
   "source": []
  }
 ],
 "metadata": {
  "kernelspec": {
   "display_name": "Python 3",
   "language": "python",
   "name": "python3"
  },
  "language_info": {
   "codemirror_mode": {
    "name": "ipython",
    "version": 3
   },
   "file_extension": ".py",
   "mimetype": "text/x-python",
   "name": "python",
   "nbconvert_exporter": "python",
   "pygments_lexer": "ipython3",
   "version": "3.6.9"
  }
 },
 "nbformat": 4,
 "nbformat_minor": 4
}
